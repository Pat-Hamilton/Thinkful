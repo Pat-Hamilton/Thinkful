{
 "cells": [
  {
   "cell_type": "code",
   "execution_count": 1,
   "metadata": {},
   "outputs": [
    {
     "name": "stderr",
     "output_type": "stream",
     "text": [
      "C:\\Users\\Pat\\Anaconda3\\lib\\site-packages\\matplotlib\\cbook\\__init__.py:1167: RuntimeWarning: invalid value encountered in double_scalars\n",
      "  notch_max = med + 1.57 * iqr / np.sqrt(N)\n",
      "C:\\Users\\Pat\\Anaconda3\\lib\\site-packages\\numpy\\lib\\function_base.py:3942: RuntimeWarning: invalid value encountered in multiply\n",
      "  x2 = take(ap, indices_above, axis=axis) * weights_above\n",
      "C:\\Users\\Pat\\Anaconda3\\lib\\site-packages\\matplotlib\\cbook\\__init__.py:1246: RuntimeWarning: invalid value encountered in less_equal\n",
      "  wiskhi = np.compress(x <= hival, x)\n",
      "C:\\Users\\Pat\\Anaconda3\\lib\\site-packages\\matplotlib\\cbook\\__init__.py:1253: RuntimeWarning: invalid value encountered in greater_equal\n",
      "  wisklo = np.compress(x >= loval, x)\n",
      "C:\\Users\\Pat\\Anaconda3\\lib\\site-packages\\matplotlib\\cbook\\__init__.py:1261: RuntimeWarning: invalid value encountered in less\n",
      "  np.compress(x < stats['whislo'], x),\n",
      "C:\\Users\\Pat\\Anaconda3\\lib\\site-packages\\matplotlib\\cbook\\__init__.py:1221: RuntimeWarning: invalid value encountered in double_scalars\n",
      "  stats['iqr'] = q3 - q1\n",
      "C:\\Users\\Pat\\Anaconda3\\lib\\site-packages\\matplotlib\\cbook\\__init__.py:1262: RuntimeWarning: invalid value encountered in greater\n",
      "  np.compress(x > stats['whishi'], x)\n"
     ]
    },
    {
     "name": "stdout",
     "output_type": "stream",
     "text": [
      "0          -inf\n",
      "1          -inf\n",
      "2          -inf\n",
      "3          -inf\n",
      "4          -inf\n",
      "5          -inf\n",
      "6          -inf\n",
      "7          -inf\n",
      "8          -inf\n",
      "9          -inf\n",
      "10         -inf\n",
      "11         -inf\n",
      "12         -inf\n",
      "13         -inf\n",
      "14         -inf\n",
      "15         -inf\n",
      "16         -inf\n",
      "17         -inf\n",
      "18         -inf\n",
      "19         -inf\n",
      "20         -inf\n",
      "21         -inf\n",
      "22         -inf\n",
      "23         -inf\n",
      "24         -inf\n",
      "25         -inf\n",
      "26         -inf\n",
      "27         -inf\n",
      "28         -inf\n",
      "29         -inf\n",
      "         ...   \n",
      "487    2.797281\n",
      "488    3.843744\n",
      "489        -inf\n",
      "490        -inf\n",
      "491        -inf\n",
      "492        -inf\n",
      "493    3.768614\n",
      "494    2.150599\n",
      "495        -inf\n",
      "496    1.018847\n",
      "497    2.686486\n",
      "498    3.702289\n",
      "499    2.381396\n",
      "500        -inf\n",
      "501        -inf\n",
      "502        -inf\n",
      "503    0.667829\n",
      "504    3.903789\n",
      "505    1.757858\n",
      "506        -inf\n",
      "507        -inf\n",
      "508        -inf\n",
      "509    0.774727\n",
      "510   -0.843970\n",
      "511        -inf\n",
      "512    1.862529\n",
      "513    3.994340\n",
      "514    2.412336\n",
      "515        -inf\n",
      "516        -inf\n",
      "Name: log_area, Length: 517, dtype: float64\n"
     ]
    },
    {
     "data": {
      "image/png": "[encoded data removed]",
      "text/plain": [
       "<Figure size 432x288 with 1 Axes>"
      ]
     },
     "metadata": {},
     "output_type": "display_data"
    }
   ],
   "source": [
    "import numpy as np\n",
    "import pyodbc\n",
    "import pandas as pd\n",
    "import matplotlib.pyplot as plt\n",
    "import seaborn as sns\n",
    "%matplotlib inline\n",
    "\n",
    "df = pd.read_csv(r'C:\\Users\\Pat\\Documents\\Thinkful\\Files\\forestfires.csv')\n",
    "df['log_area'] = df['area'].apply(np.log)\n",
    "\n",
    "sns.set(style='whitegrid')\n",
    "ax = sns.boxplot(x = 'month', y = 'log_area', data = df)\n",
    "plt.title('Temperature by Month')\n",
    "\n",
    "print(df['log_area'])\n",
    "plt.show()"
   ]
  },
  {
   "cell_type": "code",
   "execution_count": null,
   "metadata": {},
   "outputs": [],
   "source": []
  }
 ],
 "metadata": {
  "kernelspec": {
   "display_name": "Python 3",
   "language": "python",
   "name": "python3"
  },
  "language_info": {
   "codemirror_mode": {
    "name": "ipython",
    "version": 3
   },
   "file_extension": ".py",
   "mimetype": "text/x-python",
   "name": "python",
   "nbconvert_exporter": "python",
   "pygments_lexer": "ipython3",
   "version": "3.7.3"
  }
 },
 "nbformat": 4,
 "nbformat_minor": 2
}
