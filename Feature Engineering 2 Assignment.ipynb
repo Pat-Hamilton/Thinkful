{
 "cells": [
  {
   "cell_type": "code",
   "execution_count": 8,
   "metadata": {},
   "outputs": [
    {
     "name": "stdout",
     "output_type": "stream",
     "text": [
      "         PRIMARY_KEY       STATE  YEAR     ENROLL  TOTAL_REVENUE  \\\n",
      "209     1996_ALABAMA     ALABAMA  1996   735912.0      3365113.0   \n",
      "211     1996_ARIZONA     ARIZONA  1996   764681.0      4143304.0   \n",
      "212    1996_ARKANSAS    ARKANSAS  1996   452907.0      2183384.0   \n",
      "213  1996_CALIFORNIA  CALIFORNIA  1996  5460484.0     31282981.0   \n",
      "214    1996_COLORADO    COLORADO  1996   655679.0      3891203.0   \n",
      "\n",
      "     FEDERAL_REVENUE  STATE_REVENUE  LOCAL_REVENUE  TOTAL_EXPENDITURE  \\\n",
      "209         334858.0      2138717.0       891538.0          3572283.0   \n",
      "211         378917.0      1798363.0      1966024.0          4391555.0   \n",
      "212         192152.0      1296247.0       694985.0          2297381.0   \n",
      "213        2603882.0     17061474.0     11617625.0         31561692.0   \n",
      "214         194998.0      1664676.0      2031529.0          4075165.0   \n",
      "\n",
      "     INSTRUCTION_EXPENDITURE  ...  GRADES_4_G  GRADES_8_G  GRADES_12_G  \\\n",
      "209                1987018.0  ...     57098.0     58305.0      42510.0   \n",
      "211                1860007.0  ...     62793.0     60514.0      42041.0   \n",
      "212                1264275.0  ...     33855.0     37064.0      27613.0   \n",
      "213               16880730.0  ...    435217.0    406456.0     298669.0   \n",
      "214                2052264.0  ...     52524.0     52269.0      37179.0   \n",
      "\n",
      "     GRADES_1_8_G  GRADES_9_12_G  GRADES_ALL_G  AVG_MATH_4_SCORE  \\\n",
      "209      469370.0       207980.0      686983.0        211.646974   \n",
      "211      511925.0       210289.0      726709.0        217.575940   \n",
      "212      283883.0       131997.0      417860.0        215.846436   \n",
      "213     3516572.0      1525618.0     5115423.0        209.129083   \n",
      "214      423510.0       185700.0      621730.0        225.805858   \n",
      "\n",
      "     AVG_MATH_8_SCORE  AVG_READING_4_SCORE  AVG_READING_8_SCORE  \n",
      "209        256.594863           210.920767           260.276441  \n",
      "211        267.874834           206.529788           263.283638  \n",
      "212        261.652745           208.837716           271.834590  \n",
      "213        262.772478           201.912591           269.197451  \n",
      "214        275.608214           221.653243           268.168154  \n",
      "\n",
      "[5 rows x 25 columns]\n"
     ]
    }
   ],
   "source": [
    "import pandas as pd\n",
    "import numpy as np\n",
    "from sqlalchemy import create_engine\n",
    "import warnings\n",
    "import seaborn as sns\n",
    "from scipy.stats.mstats import winsorize\n",
    "import matplotlib.pyplot as plt\n",
    "%matplotlib inline\n",
    "\n",
    "warnings.filterwarnings('ignore')\n",
    "\n",
    "postgres_user = 'dsbc_student'\n",
    "postgres_pw = '7*.8G9QH21'\n",
    "postgres_host = '142.93.121.174'\n",
    "postgres_port = '5432'\n",
    "postgres_db = 'useducation'\n",
    "\n",
    "engine = create_engine('postgresql://{}:{}@{}:{}/{}'.format(\n",
    "    postgres_user, postgres_pw, postgres_host, postgres_port, postgres_db))\n",
    "\n",
    "df = pd.read_sql_query('select * from useducation',con=engine)\n",
    "\n",
    "engine.dispose()\n",
    "\n",
    "columns = list(df.columns)\n",
    "remove = {'PRIMARY_KEY', 'STATE', 'YEAR', 'AVG_READING_8_SCORE', 'AVG_READING_4_SCORE', 'AVG_MATH_8_SCORE', 'AVG_MATH_4_SCORE'}\n",
    "columns = [e for e in columns if e not in remove]\n",
    "\n",
    "states = df['STATE'].unique()\n",
    "\n",
    "for state in states:\n",
    "    df.loc[df['STATE'] == state, columns] = df.loc[df['STATE'] == state, columns].interpolate()\n",
    "\n",
    "df.dropna(inplace=True)\n",
    "\n",
    "print(df.head())"
   ]
  },
  {
   "cell_type": "markdown",
   "metadata": {},
   "source": [
    "1. Create a new score variable from the weighted averages of all score variables in the datasets. "
   ]
  },
  {
   "cell_type": "code",
   "execution_count": 11,
   "metadata": {},
   "outputs": [],
   "source": [
    "df['avg_score'] = (df['GRADES_4_G']*((df['AVG_MATH_4_SCORE']+df['AVG_READING_4_SCORE'])/2)+\n",
    "                   df['GRADES_8_G']*((df['AVG_MATH_8_SCORE']+df['AVG_READING_8_SCORE'])/2))/(df['GRADES_8_G']+df['GRADES_4_G'])"
   ]
  },
  {
   "cell_type": "markdown",
   "metadata": {},
   "source": [
    "2. What are the correlations between this newly created score variable and the expenditure types? Which 1 of the expenditure types is more correlated than the others?"
   ]
  },
  {
   "cell_type": "code",
   "execution_count": 14,
   "metadata": {},
   "outputs": [
    {
     "name": "stdout",
     "output_type": "stream",
     "text": [
      "Inatruction expenditure is the most correlated\n"
     ]
    }
   ],
   "source": [
    "df[[\"avg_score\", \"TOTAL_EXPENDITURE\", \"INSTRUCTION_EXPENDITURE\",\n",
    "              \"SUPPORT_SERVICES_EXPENDITURE\", \"OTHER_EXPENDITURE\", \"CAPITAL_OUTLAY_EXPENDITURE\"]].corr()\n",
    "print('Inatruction expenditure is the most correlated')"
   ]
  },
  {
   "cell_type": "markdown",
   "metadata": {},
   "source": [
    "3. Now, apply PCA to the 4 expenditure types. How much of the total variance is explained by the 1st component?"
   ]
  },
  {
   "cell_type": "code",
   "execution_count": 17,
   "metadata": {},
   "outputs": [
    {
     "name": "stdout",
     "output_type": "stream",
     "text": [
      "The percentage of total variance in the dataset explained by each component from Sklearn PCA.\n",
      " [0.9430175]\n"
     ]
    }
   ],
   "source": [
    "from sklearn.decomposition import PCA\n",
    "from sklearn.preprocessing import StandardScaler\n",
    "\n",
    "X = df[['INSTRUCTION_EXPENDITURE', 'SUPPORT_SERVICES_EXPENDITURE',\n",
    "                  'OTHER_EXPENDITURE', 'CAPITAL_OUTLAY_EXPENDITURE']]\n",
    "\n",
    "X = StandardScaler().fit_transform(X)\n",
    "\n",
    "sklearn_pca = PCA(n_components=1)\n",
    "df[\"pca_1\"] = sklearn_pca.fit_transform(X)\n",
    "\n",
    "print(\n",
    "    'The percentage of total variance in the dataset explained by each',\n",
    "    'component from Sklearn PCA.\\n',\n",
    "    sklearn_pca.explained_variance_ratio_\n",
    ")"
   ]
  },
  {
   "cell_type": "markdown",
   "metadata": {},
   "source": [
    "4. What is the correlation between the overall score variable and the 1st principal component?"
   ]
  },
  {
   "cell_type": "code",
   "execution_count": 20,
   "metadata": {},
   "outputs": [
    {
     "data": {
      "text/html": [
       "<div>\n",
       "<style scoped>\n",
       "    .dataframe tbody tr th:only-of-type {\n",
       "        vertical-align: middle;\n",
       "    }\n",
       "\n",
       "    .dataframe tbody tr th {\n",
       "        vertical-align: top;\n",
       "    }\n",
       "\n",
       "    .dataframe thead th {\n",
       "        text-align: right;\n",
       "    }\n",
       "</style>\n",
       "<table border=\"1\" class=\"dataframe\">\n",
       "  <thead>\n",
       "    <tr style=\"text-align: right;\">\n",
       "      <th></th>\n",
       "      <th>avg_score</th>\n",
       "      <th>pca_1</th>\n",
       "      <th>TOTAL_EXPENDITURE</th>\n",
       "      <th>INSTRUCTION_EXPENDITURE</th>\n",
       "      <th>SUPPORT_SERVICES_EXPENDITURE</th>\n",
       "      <th>OTHER_EXPENDITURE</th>\n",
       "      <th>CAPITAL_OUTLAY_EXPENDITURE</th>\n",
       "    </tr>\n",
       "  </thead>\n",
       "  <tbody>\n",
       "    <tr>\n",
       "      <th>avg_score</th>\n",
       "      <td>1.000000</td>\n",
       "      <td>0.044596</td>\n",
       "      <td>0.074155</td>\n",
       "      <td>0.087386</td>\n",
       "      <td>0.079002</td>\n",
       "      <td>0.010959</td>\n",
       "      <td>-0.005389</td>\n",
       "    </tr>\n",
       "    <tr>\n",
       "      <th>pca_1</th>\n",
       "      <td>0.044596</td>\n",
       "      <td>1.000000</td>\n",
       "      <td>0.992054</td>\n",
       "      <td>0.968606</td>\n",
       "      <td>0.988345</td>\n",
       "      <td>0.971343</td>\n",
       "      <td>0.955792</td>\n",
       "    </tr>\n",
       "    <tr>\n",
       "      <th>TOTAL_EXPENDITURE</th>\n",
       "      <td>0.074155</td>\n",
       "      <td>0.992054</td>\n",
       "      <td>1.000000</td>\n",
       "      <td>0.990255</td>\n",
       "      <td>0.992988</td>\n",
       "      <td>0.943702</td>\n",
       "      <td>0.925784</td>\n",
       "    </tr>\n",
       "    <tr>\n",
       "      <th>INSTRUCTION_EXPENDITURE</th>\n",
       "      <td>0.087386</td>\n",
       "      <td>0.968606</td>\n",
       "      <td>0.990255</td>\n",
       "      <td>1.000000</td>\n",
       "      <td>0.974399</td>\n",
       "      <td>0.902173</td>\n",
       "      <td>0.884798</td>\n",
       "    </tr>\n",
       "    <tr>\n",
       "      <th>SUPPORT_SERVICES_EXPENDITURE</th>\n",
       "      <td>0.079002</td>\n",
       "      <td>0.988345</td>\n",
       "      <td>0.992988</td>\n",
       "      <td>0.974399</td>\n",
       "      <td>1.000000</td>\n",
       "      <td>0.952282</td>\n",
       "      <td>0.911245</td>\n",
       "    </tr>\n",
       "    <tr>\n",
       "      <th>OTHER_EXPENDITURE</th>\n",
       "      <td>0.010959</td>\n",
       "      <td>0.971343</td>\n",
       "      <td>0.943702</td>\n",
       "      <td>0.902173</td>\n",
       "      <td>0.952282</td>\n",
       "      <td>1.000000</td>\n",
       "      <td>0.918188</td>\n",
       "    </tr>\n",
       "    <tr>\n",
       "      <th>CAPITAL_OUTLAY_EXPENDITURE</th>\n",
       "      <td>-0.005389</td>\n",
       "      <td>0.955792</td>\n",
       "      <td>0.925784</td>\n",
       "      <td>0.884798</td>\n",
       "      <td>0.911245</td>\n",
       "      <td>0.918188</td>\n",
       "      <td>1.000000</td>\n",
       "    </tr>\n",
       "  </tbody>\n",
       "</table>\n",
       "</div>"
      ],
      "text/plain": [
       "                              avg_score     pca_1  TOTAL_EXPENDITURE  \\\n",
       "avg_score                      1.000000  0.044596           0.074155   \n",
       "pca_1                          0.044596  1.000000           0.992054   \n",
       "TOTAL_EXPENDITURE              0.074155  0.992054           1.000000   \n",
       "INSTRUCTION_EXPENDITURE        0.087386  0.968606           0.990255   \n",
       "SUPPORT_SERVICES_EXPENDITURE   0.079002  0.988345           0.992988   \n",
       "OTHER_EXPENDITURE              0.010959  0.971343           0.943702   \n",
       "CAPITAL_OUTLAY_EXPENDITURE    -0.005389  0.955792           0.925784   \n",
       "\n",
       "                              INSTRUCTION_EXPENDITURE  \\\n",
       "avg_score                                    0.087386   \n",
       "pca_1                                        0.968606   \n",
       "TOTAL_EXPENDITURE                            0.990255   \n",
       "INSTRUCTION_EXPENDITURE                      1.000000   \n",
       "SUPPORT_SERVICES_EXPENDITURE                 0.974399   \n",
       "OTHER_EXPENDITURE                            0.902173   \n",
       "CAPITAL_OUTLAY_EXPENDITURE                   0.884798   \n",
       "\n",
       "                              SUPPORT_SERVICES_EXPENDITURE  OTHER_EXPENDITURE  \\\n",
       "avg_score                                         0.079002           0.010959   \n",
       "pca_1                                             0.988345           0.971343   \n",
       "TOTAL_EXPENDITURE                                 0.992988           0.943702   \n",
       "INSTRUCTION_EXPENDITURE                           0.974399           0.902173   \n",
       "SUPPORT_SERVICES_EXPENDITURE                      1.000000           0.952282   \n",
       "OTHER_EXPENDITURE                                 0.952282           1.000000   \n",
       "CAPITAL_OUTLAY_EXPENDITURE                        0.911245           0.918188   \n",
       "\n",
       "                              CAPITAL_OUTLAY_EXPENDITURE  \n",
       "avg_score                                      -0.005389  \n",
       "pca_1                                           0.955792  \n",
       "TOTAL_EXPENDITURE                               0.925784  \n",
       "INSTRUCTION_EXPENDITURE                         0.884798  \n",
       "SUPPORT_SERVICES_EXPENDITURE                    0.911245  \n",
       "OTHER_EXPENDITURE                               0.918188  \n",
       "CAPITAL_OUTLAY_EXPENDITURE                      1.000000  "
      ]
     },
     "execution_count": 20,
     "metadata": {},
     "output_type": "execute_result"
    }
   ],
   "source": [
    "df[['avg_score', 'pca_1', 'TOTAL_EXPENDITURE', 'INSTRUCTION_EXPENDITURE',\n",
    "              'SUPPORT_SERVICES_EXPENDITURE', 'OTHER_EXPENDITURE', 'CAPITAL_OUTLAY_EXPENDITURE']].corr()"
   ]
  },
  {
   "cell_type": "markdown",
   "metadata": {},
   "source": [
    "The correlation the first principal component is less than the correlation for both instruction and support service expenditures"
   ]
  }
 ],
 "metadata": {
  "kernelspec": {
   "display_name": "Python 3",
   "language": "python",
   "name": "python3"
  },
  "language_info": {
   "codemirror_mode": {
    "name": "ipython",
    "version": 3
   },
   "file_extension": ".py",
   "mimetype": "text/x-python",
   "name": "python",
   "nbconvert_exporter": "python",
   "pygments_lexer": "ipython3",
   "version": "3.7.3"
  }
 },
 "nbformat": 4,
 "nbformat_minor": 2
}
