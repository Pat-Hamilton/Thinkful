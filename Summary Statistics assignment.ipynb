{
 "cells": [
  {
   "cell_type": "code",
   "execution_count": 6,
   "metadata": {},
   "outputs": [
    {
     "name": "stdout",
     "output_type": "stream",
     "text": [
      "mean:  9.857142857142858\n",
      "median:  10.0\n",
      "variance:  6.408163265306122\n",
      "std. deviation : 2.531435020952764\n",
      "standard error : 1.0334540197243194\n"
     ]
    }
   ],
   "source": [
    "import numpy as np\n",
    "ages =[14,12,11,10,8,6,8]\n",
    "\n",
    "def agestats(ages):\n",
    "    print(\"mean: \",np.mean(ages))\n",
    "    print(\"median: \",np.median(ages))\n",
    "    print(\"variance: \",np.var(ages))\n",
    "    print(\"std. deviation :\",np.std(ages))\n",
    "    print(\"standard error :\",np.std(ages)/np.sqrt(len(ages)-1))\n",
    "    \n",
    "summarystats(ages)\n",
    "    \n",
    "#The mode is 8\n",
    "#Use mean and median. Not much of a difference between mean and median."
   ]
  },
  {
   "cell_type": "code",
   "execution_count": 7,
   "metadata": {},
   "outputs": [
    {
     "name": "stdout",
     "output_type": "stream",
     "text": [
      "mean:  10.0\n",
      "median:  10.0\n",
      "variance:  5.428571428571429\n",
      "std. deviation : 2.32992949004287\n",
      "standard error : 0.951189731211342\n"
     ]
    }
   ],
   "source": [
    "ages_2 =[14,12,11,10,8,7,8]\n",
    "agestats(ages_2)\n",
    "\n",
    "#There's no mode"
   ]
  },
  {
   "cell_type": "code",
   "execution_count": 9,
   "metadata": {},
   "outputs": [
    {
     "name": "stdout",
     "output_type": "stream",
     "text": [
      "mean:  9.0\n",
      "median:  10.0\n",
      "variance:  15.428571428571429\n",
      "std. deviation : 3.927922024247863\n",
      "standard error : 1.6035674514745466\n"
     ]
    }
   ],
   "source": [
    "ages_3 =[14,12,11,10,8,7,1]\n",
    "agestats(ages_3)\n",
    "\n",
    "# No mode\n",
    "# The outlier will drive the mean down. Might be better to use the median"
   ]
  },
  {
   "cell_type": "code",
   "execution_count": 10,
   "metadata": {},
   "outputs": [],
   "source": [
    "# Sciphi phanatic is going to be a smaller group with more specific interests. Best to ignore that and choose and average of the other 3, so maybe around 20%"
   ]
  },
  {
   "cell_type": "code",
   "execution_count": null,
   "metadata": {},
   "outputs": [],
   "source": []
  }
 ],
 "metadata": {
  "kernelspec": {
   "display_name": "Python 3",
   "language": "python",
   "name": "python3"
  },
  "language_info": {
   "codemirror_mode": {
    "name": "ipython",
    "version": 3
   },
   "file_extension": ".py",
   "mimetype": "text/x-python",
   "name": "python",
   "nbconvert_exporter": "python",
   "pygments_lexer": "ipython3",
   "version": "3.7.3"
  }
 },
 "nbformat": 4,
 "nbformat_minor": 2
}
