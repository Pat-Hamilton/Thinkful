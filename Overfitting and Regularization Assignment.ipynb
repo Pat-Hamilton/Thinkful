{
 "cells": [
  {
   "cell_type": "code",
   "execution_count": 12,
   "metadata": {},
   "outputs": [],
   "source": [
    "import numpy as np\n",
    "import pandas as pd\n",
    "import matplotlib.pyplot as plt\n",
    "from sqlalchemy import create_engine\n",
    "from sklearn.model_selection import train_test_split, cross_val_score\n",
    "from sklearn.metrics import mean_absolute_error\n",
    "from statsmodels.tools.eval_measures import mse, rmse\n",
    "from sklearn.linear_model import LinearRegression, LassoCV, RidgeCV, ElasticNetCV\n",
    "\n",
    "import warnings\n",
    "warnings.filterwarnings('ignore')\n",
    "\n",
    "postgres_user = 'dsbc_student'\n",
    "postgres_pw = '7*.8G9QH21'\n",
    "postgres_host = '142.93.121.174'\n",
    "postgres_port = '5432'\n",
    "postgres_db = 'houseprices'"
   ]
  },
  {
   "cell_type": "code",
   "execution_count": 13,
   "metadata": {},
   "outputs": [
    {
     "name": "stdout",
     "output_type": "stream",
     "text": [
      "   id  mssubclass mszoning  lotfrontage  lotarea street alley lotshape  \\\n",
      "0   1          60       RL         65.0     8450   Pave  None      Reg   \n",
      "1   2          20       RL         80.0     9600   Pave  None      Reg   \n",
      "2   3          60       RL         68.0    11250   Pave  None      IR1   \n",
      "3   4          70       RL         60.0     9550   Pave  None      IR1   \n",
      "4   5          60       RL         84.0    14260   Pave  None      IR1   \n",
      "5   6          50       RL         85.0    14115   Pave  None      IR1   \n",
      "6   7          20       RL         75.0    10084   Pave  None      Reg   \n",
      "7   8          60       RL          NaN    10382   Pave  None      IR1   \n",
      "8   9          50       RM         51.0     6120   Pave  None      Reg   \n",
      "9  10         190       RL         50.0     7420   Pave  None      Reg   \n",
      "\n",
      "  landcontour utilities  ... poolarea poolqc  fence miscfeature miscval  \\\n",
      "0         Lvl    AllPub  ...        0   None   None        None       0   \n",
      "1         Lvl    AllPub  ...        0   None   None        None       0   \n",
      "2         Lvl    AllPub  ...        0   None   None        None       0   \n",
      "3         Lvl    AllPub  ...        0   None   None        None       0   \n",
      "4         Lvl    AllPub  ...        0   None   None        None       0   \n",
      "5         Lvl    AllPub  ...        0   None  MnPrv        Shed     700   \n",
      "6         Lvl    AllPub  ...        0   None   None        None       0   \n",
      "7         Lvl    AllPub  ...        0   None   None        Shed     350   \n",
      "8         Lvl    AllPub  ...        0   None   None        None       0   \n",
      "9         Lvl    AllPub  ...        0   None   None        None       0   \n",
      "\n",
      "  mosold yrsold  saletype  salecondition  saleprice  \n",
      "0      2   2008        WD         Normal     208500  \n",
      "1      5   2007        WD         Normal     181500  \n",
      "2      9   2008        WD         Normal     223500  \n",
      "3      2   2006        WD        Abnorml     140000  \n",
      "4     12   2008        WD         Normal     250000  \n",
      "5     10   2009        WD         Normal     143000  \n",
      "6      8   2007        WD         Normal     307000  \n",
      "7     11   2009        WD         Normal     200000  \n",
      "8      4   2008        WD        Abnorml     129900  \n",
      "9      1   2008        WD         Normal     118000  \n",
      "\n",
      "[10 rows x 81 columns]\n"
     ]
    }
   ],
   "source": [
    "engine = create_engine('postgresql://{}:{}@{}:{}/{}'.format(\n",
    "    postgres_user, postgres_pw, postgres_host, postgres_port, postgres_db))\n",
    "house_prices_df = pd.read_sql_query('select * from houseprices',con=engine)\n",
    "\n",
    "# Can close the connection since we're only doing one query\n",
    "engine.dispose()\n",
    "\n",
    "print(house_prices_df.head(10))"
   ]
  },
  {
   "cell_type": "code",
   "execution_count": 14,
   "metadata": {},
   "outputs": [],
   "source": [
    "house_prices_df = pd.concat([house_prices_df,pd.get_dummies(house_prices_df.mszoning, prefix=\"mszoning\", drop_first=True)], axis=1)\n",
    "house_prices_df = pd.concat([house_prices_df,pd.get_dummies(house_prices_df.street, prefix=\"street\", drop_first=True)], axis=1)\n",
    "dummy_column_names = list(pd.get_dummies(house_prices_df.mszoning, prefix=\"mszoning\", drop_first=True).columns)\n",
    "dummy_column_names = dummy_column_names + list(pd.get_dummies(house_prices_df.street, prefix=\"street\", drop_first=True).columns)"
   ]
  },
  {
   "cell_type": "code",
   "execution_count": 21,
   "metadata": {},
   "outputs": [],
   "source": [
    "# Y : Target Variable\n",
    "Y = house_prices_df['saleprice']\n",
    "# X: Features\n",
    "X = house_prices_df[['overallqual', 'grlivarea', 'garagecars', 'garagearea', 'totalbsmtsf'] + dummy_column_names]\n",
    "\n",
    "X = sm.add_constant(X)\n",
    "\n",
    "X_train, X_test, y_train, y_test = train_test_split(X, Y, test_size = 0.2, random_state = 465)"
   ]
  },
  {
   "cell_type": "code",
   "execution_count": 22,
   "metadata": {},
   "outputs": [
    {
     "name": "stdout",
     "output_type": "stream",
     "text": [
      "R-squared of the model in training set is: 0.7680258684645617\n",
      "-----Test set statistics-----\n",
      "R-squared of the model in test set is: 0.7677759097496346\n",
      "Mean absolute error of the prediction is: 25546.803828589873\n",
      "Mean squared error of the prediction is: 1559083821.972992\n",
      "Root mean squared error of the prediction is: 39485.23549344732\n",
      "Mean absolute percentage error of the prediction is: 15.551420347538441\n"
     ]
    }
   ],
   "source": [
    "lrm = LinearRegression()\n",
    "\n",
    "lrm.fit(X_train, y_train)\n",
    "\n",
    "# Predictions\n",
    "y_preds_train = lrm.predict(X_train)\n",
    "y_preds_test = lrm.predict(X_test)\n",
    "\n",
    "print(\"R-squared of the model in training set is: {}\".format(lrm.score(X_train, y_train)))\n",
    "print(\"-----Test set statistics-----\")\n",
    "print(\"R-squared of the model in test set is: {}\".format(lrm.score(X_test, y_test)))\n",
    "print(\"Mean absolute error of the prediction is: {}\".format(mean_absolute_error(y_test, y_preds_test)))\n",
    "print(\"Mean squared error of the prediction is: {}\".format(mse(y_test, y_preds_test)))\n",
    "print(\"Root mean squared error of the prediction is: {}\".format(rmse(y_test, y_preds_test)))\n",
    "print(\"Mean absolute percentage error of the prediction is: {}\".format(np.mean(np.abs((y_test - y_preds_test) / y_test)) * 100))"
   ]
  },
  {
   "cell_type": "code",
   "execution_count": 30,
   "metadata": {},
   "outputs": [
    {
     "name": "stdout",
     "output_type": "stream",
     "text": [
      "R-squared of the model in training set is: 0.7678047359412336\n",
      "-----Test set statistics-----\n",
      "R-squared of the model in test set is: 0.7678676963052431\n",
      "Mean absolute error of the prediction is: 25550.27903500316\n",
      "Mean squared error of the prediction is: 1558467594.2001991\n",
      "Root mean squared error of the prediction is: 39477.431453935795\n",
      "Mean absolute percentage error of the prediction is: 15.613447980127408\n"
     ]
    }
   ],
   "source": [
    "# alphas = [np.power(10.0,p) for p in np.arange(-10,40,1)]\n",
    "\n",
    "lasso = LassoCV(alphas=alphas, cv=5)\n",
    "\n",
    "lasso.fit(X_train, y_train)\n",
    "\n",
    "# We are making predictions here\n",
    "y_preds_train = lasso.predict(X_train)\n",
    "y_preds_test = lasso.predict(X_test)\n",
    "\n",
    "# print(\"Best alpha value is: {}\".format(lasso.alpha_))\n",
    "print(\"R-squared of the model in training set is: {}\".format(lasso.score(X_train, y_train)))\n",
    "print(\"-----Test set statistics-----\")\n",
    "print(\"R-squared of the model in test set is: {}\".format(lasso.score(X_test, y_test)))\n",
    "print(\"Mean absolute error of the prediction is: {}\".format(mean_absolute_error(y_test, y_preds_test)))\n",
    "print(\"Mean squared error of the prediction is: {}\".format(mse(y_test, y_preds_test)))\n",
    "print(\"Root mean squared error of the prediction is: {}\".format(rmse(y_test, y_preds_test)))\n",
    "print(\"Mean absolute percentage error of the prediction is: {}\".format(np.mean(np.abs((y_test - y_preds_test) / y_test)) * 100))"
   ]
  },
  {
   "cell_type": "code",
   "execution_count": 31,
   "metadata": {},
   "outputs": [
    {
     "name": "stdout",
     "output_type": "stream",
     "text": [
      "R-squared of the model in training set is: 0.7678338103945402\n",
      "-----Test set statistics-----\n",
      "R-squared of the model in test set is: 0.7678244205564295\n",
      "Mean absolute error of the prediction is: 25539.73254414962\n",
      "Mean squared error of the prediction is: 1558758134.7715333\n",
      "Root mean squared error of the prediction is: 39481.11111368996\n",
      "Mean absolute percentage error of the prediction is: 15.627026388844916\n"
     ]
    }
   ],
   "source": [
    "ridge = RidgeCV(alphas=alphas, cv=5)\n",
    "\n",
    "ridge.fit(X_train, y_train)\n",
    "\n",
    "# We are making predictions here\n",
    "y_preds_train = ridge.predict(X_train)\n",
    "y_preds_test = ridge.predict(X_test)\n",
    "\n",
    "# print(\"Best alpha value is: {}\".format(ridge.alpha_))\n",
    "print(\"R-squared of the model in training set is: {}\".format(ridge.score(X_train, y_train)))\n",
    "print(\"-----Test set statistics-----\")\n",
    "print(\"R-squared of the model in test set is: {}\".format(ridge.score(X_test, y_test)))\n",
    "print(\"Mean absolute error of the prediction is: {}\".format(mean_absolute_error(y_test, y_preds_test)))\n",
    "print(\"Mean squared error of the prediction is: {}\".format(mse(y_test, y_preds_test)))\n",
    "print(\"Root mean squared error of the prediction is: {}\".format(rmse(y_test, y_preds_test)))\n",
    "print(\"Mean absolute percentage error of the prediction is: {}\".format(np.mean(np.abs((y_test - y_preds_test) / y_test)) * 100))"
   ]
  },
  {
   "cell_type": "code",
   "execution_count": 32,
   "metadata": {},
   "outputs": [
    {
     "name": "stdout",
     "output_type": "stream",
     "text": [
      "R-squared of the model in training set is: 0.7678925153819995\n",
      "-----Test set statistics-----\n",
      "R-squared of the model in test set is: 0.7676453805577793\n",
      "Mean absolute error of the prediction is: 25567.300532077265\n",
      "Mean squared error of the prediction is: 1559960156.3407888\n",
      "Root mean squared error of the prediction is: 39496.33092251467\n",
      "Mean absolute percentage error of the prediction is: 15.636674449979168\n"
     ]
    }
   ],
   "source": [
    "elasticnet = ElasticNetCV(alphas=alphas, cv=5)\n",
    "\n",
    "elasticnet.fit(X_train, y_train)\n",
    "\n",
    "# We are making predictions here\n",
    "y_preds_train = elasticnet.predict(X_train)\n",
    "y_preds_test = elasticnet.predict(X_test)\n",
    "\n",
    "# print(\"Best alpha value is: {}\".format(elasticnet.alpha_))\n",
    "print(\"R-squared of the model in training set is: {}\".format(elasticnet.score(X_train, y_train)))\n",
    "print(\"-----Test set statistics-----\")\n",
    "print(\"R-squared of the model in test set is: {}\".format(elasticnet.score(X_test, y_test)))\n",
    "print(\"Mean absolute error of the prediction is: {}\".format(mean_absolute_error(y_test, y_preds_test)))\n",
    "print(\"Mean squared error of the prediction is: {}\".format(mse(y_test, y_preds_test)))\n",
    "print(\"Root mean squared error of the prediction is: {}\".format(rmse(y_test, y_preds_test)))\n",
    "print(\"Mean absolute percentage error of the prediction is: {}\".format(np.mean(np.abs((y_test - y_preds_test) / y_test)) * 100))"
   ]
  }
 ],
 "metadata": {
  "kernelspec": {
   "display_name": "Python 3",
   "language": "python",
   "name": "python3"
  },
  "language_info": {
   "codemirror_mode": {
    "name": "ipython",
    "version": 3
   },
   "file_extension": ".py",
   "mimetype": "text/x-python",
   "name": "python",
   "nbconvert_exporter": "python",
   "pygments_lexer": "ipython3",
   "version": "3.7.3"
  }
 },
 "nbformat": 4,
 "nbformat_minor": 2
}
