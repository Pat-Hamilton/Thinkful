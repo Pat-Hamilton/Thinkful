{
 "cells": [
  {
   "cell_type": "code",
   "execution_count": 13,
   "metadata": {},
   "outputs": [],
   "source": [
    "import numpy as np\n",
    "import pandas as pd\n",
    "import matplotlib.pyplot as plt\n",
    "from sqlalchemy import create_engine\n",
    "from sklearn.model_selection import train_test_split, cross_val_score\n",
    "from sklearn.metrics import mean_absolute_error\n",
    "from statsmodels.tools.eval_measures import mse, rmse\n",
    "from sklearn.linear_model import LinearRegression, LassoCV, RidgeCV, ElasticNetCV\n",
    "import statsmodels.api as sm\n",
    "from sklearn.model_selection import GridSearchCV\n",
    "from sklearn.linear_model import Ridge\n",
    "import cpi\n",
    "from sklearn import tree\n",
    "import warnings\n",
    "from IPython.display import Image\n",
    "import pydotplus\n",
    "import graphviz\n",
    "from sklearn import ensemble\n",
    "from sklearn.model_selection import cross_val_score\n",
    "warnings.filterwarnings('ignore')\n",
    "from sklearn import preprocessing\n",
    "from sklearn import utils"
   ]
  },
  {
   "cell_type": "code",
   "execution_count": 14,
   "metadata": {},
   "outputs": [
    {
     "name": "stdout",
     "output_type": "stream",
     "text": [
      "   id  mssubclass mszoning  lotfrontage  lotarea street alley lotshape  \\\n",
      "0   1          60       RL         65.0     8450   Pave  None      Reg   \n",
      "1   2          20       RL         80.0     9600   Pave  None      Reg   \n",
      "2   3          60       RL         68.0    11250   Pave  None      IR1   \n",
      "3   4          70       RL         60.0     9550   Pave  None      IR1   \n",
      "4   5          60       RL         84.0    14260   Pave  None      IR1   \n",
      "\n",
      "  landcontour utilities  ... poolarea poolqc fence miscfeature miscval mosold  \\\n",
      "0         Lvl    AllPub  ...        0   None  None        None       0      2   \n",
      "1         Lvl    AllPub  ...        0   None  None        None       0      5   \n",
      "2         Lvl    AllPub  ...        0   None  None        None       0      9   \n",
      "3         Lvl    AllPub  ...        0   None  None        None       0      2   \n",
      "4         Lvl    AllPub  ...        0   None  None        None       0     12   \n",
      "\n",
      "  yrsold  saletype  salecondition  saleprice  \n",
      "0   2008        WD         Normal     208500  \n",
      "1   2007        WD         Normal     181500  \n",
      "2   2008        WD         Normal     223500  \n",
      "3   2006        WD        Abnorml     140000  \n",
      "4   2008        WD         Normal     250000  \n",
      "\n",
      "[5 rows x 81 columns]\n"
     ]
    }
   ],
   "source": [
    "postgres_user = 'dsbc_student'\n",
    "postgres_pw = '7*.8G9QH21'\n",
    "postgres_host = '142.93.121.174'\n",
    "postgres_port = '5432'\n",
    "postgres_db = 'houseprices'\n",
    "\n",
    "engine = create_engine('postgresql://{}:{}@{}:{}/{}'.format(\n",
    "    postgres_user, postgres_pw, postgres_host, postgres_port, postgres_db))\n",
    "house_prices_df = pd.read_sql_query('select * from houseprices',con=engine)\n",
    "\n",
    "# Can close the connection since we're only doing one query\n",
    "engine.dispose()\n",
    "\n",
    "print(house_prices_df.head())"
   ]
  },
  {
   "cell_type": "code",
   "execution_count": 15,
   "metadata": {},
   "outputs": [
    {
     "name": "stdout",
     "output_type": "stream",
     "text": [
      "   id  mssubclass mszoning  lotfrontage  lotarea street alley lotshape  \\\n",
      "0   1          60       RL         65.0     8450   Pave  None      Reg   \n",
      "1   2          20       RL         80.0     9600   Pave  None      Reg   \n",
      "2   3          60       RL         68.0    11250   Pave  None      IR1   \n",
      "3   4          70       RL         60.0     9550   Pave  None      IR1   \n",
      "4   5          60       RL         84.0    14260   Pave  None      IR1   \n",
      "5   6          50       RL         85.0    14115   Pave  None      IR1   \n",
      "6   7          20       RL         75.0    10084   Pave  None      Reg   \n",
      "7   8          60       RL          NaN    10382   Pave  None      IR1   \n",
      "8   9          50       RM         51.0     6120   Pave  None      Reg   \n",
      "9  10         190       RL         50.0     7420   Pave  None      Reg   \n",
      "\n",
      "  landcontour utilities  ... mosold yrsold saletype salecondition saleprice  \\\n",
      "0         Lvl    AllPub  ...      2   2008       WD        Normal    208500   \n",
      "1         Lvl    AllPub  ...      5   2007       WD        Normal    181500   \n",
      "2         Lvl    AllPub  ...      9   2008       WD        Normal    223500   \n",
      "3         Lvl    AllPub  ...      2   2006       WD       Abnorml    140000   \n",
      "4         Lvl    AllPub  ...     12   2008       WD        Normal    250000   \n",
      "5         Lvl    AllPub  ...     10   2009       WD        Normal    143000   \n",
      "6         Lvl    AllPub  ...      8   2007       WD        Normal    307000   \n",
      "7         Lvl    AllPub  ...     11   2009       WD        Normal    200000   \n",
      "8         Lvl    AllPub  ...      4   2008       WD       Abnorml    129900   \n",
      "9         Lvl    AllPub  ...      1   2008       WD        Normal    118000   \n",
      "\n",
      "  inf_adj_saleprice cpi_yr_built  cpi_yr_sold  totalsf  int_over_sf  \n",
      "0     243172.689187        184.0      215.303     2566        17962  \n",
      "1     219810.364036         56.9      207.342     2524        15144  \n",
      "2     260667.127258        177.1      215.303     2706        18942  \n",
      "3     174379.861111         10.1      201.600     2473        17311  \n",
      "4     291573.967850        172.2      215.303     3343        26744  \n",
      "5     167375.795317        144.5      214.537     2158        10790  \n",
      "6     371800.450463        188.9      207.342     3380        27040  \n",
      "7     234092.021423         44.4      214.537     3197        22379  \n",
      "8     151501.833695         15.2      215.303     2726        19082  \n",
      "9     137622.912825         13.9      215.303     2068        10340  \n",
      "\n",
      "[10 rows x 86 columns]\n",
      "<class 'pandas.core.frame.DataFrame'>\n",
      "RangeIndex: 1460 entries, 0 to 1459\n",
      "Data columns (total 43 columns):\n",
      "id                   1460 non-null int64\n",
      "mssubclass           1460 non-null int64\n",
      "lotfrontage          1201 non-null float64\n",
      "lotarea              1460 non-null int64\n",
      "overallqual          1460 non-null int64\n",
      "overallcond          1460 non-null int64\n",
      "yearbuilt            1460 non-null int64\n",
      "yearremodadd         1460 non-null int64\n",
      "masvnrarea           1452 non-null float64\n",
      "bsmtfinsf1           1460 non-null int64\n",
      "bsmtfinsf2           1460 non-null int64\n",
      "bsmtunfsf            1460 non-null int64\n",
      "totalbsmtsf          1460 non-null int64\n",
      "firstflrsf           1460 non-null int64\n",
      "secondflrsf          1460 non-null int64\n",
      "lowqualfinsf         1460 non-null int64\n",
      "grlivarea            1460 non-null int64\n",
      "bsmtfullbath         1460 non-null int64\n",
      "bsmthalfbath         1460 non-null int64\n",
      "fullbath             1460 non-null int64\n",
      "halfbath             1460 non-null int64\n",
      "bedroomabvgr         1460 non-null int64\n",
      "kitchenabvgr         1460 non-null int64\n",
      "totrmsabvgrd         1460 non-null int64\n",
      "fireplaces           1460 non-null int64\n",
      "garageyrblt          1379 non-null float64\n",
      "garagecars           1460 non-null int64\n",
      "garagearea           1460 non-null int64\n",
      "wooddecksf           1460 non-null int64\n",
      "openporchsf          1460 non-null int64\n",
      "enclosedporch        1460 non-null int64\n",
      "threessnporch        1460 non-null int64\n",
      "screenporch          1460 non-null int64\n",
      "poolarea             1460 non-null int64\n",
      "miscval              1460 non-null int64\n",
      "mosold               1460 non-null int64\n",
      "yrsold               1460 non-null int64\n",
      "saleprice            1460 non-null int64\n",
      "inf_adj_saleprice    1460 non-null float64\n",
      "cpi_yr_built         1460 non-null float64\n",
      "cpi_yr_sold          1460 non-null float64\n",
      "totalsf              1460 non-null int64\n",
      "int_over_sf          1460 non-null int64\n",
      "dtypes: float64(6), int64(37)\n",
      "memory usage: 490.6 KB\n",
      "<class 'pandas.core.frame.DataFrame'>\n",
      "RangeIndex: 1460 entries, 0 to 1459\n",
      "Data columns (total 13 columns):\n",
      "yrsold          1460 non-null int64\n",
      "overallqual     1460 non-null int64\n",
      "overallcond     1460 non-null int64\n",
      "bsmtfullbath    1460 non-null int64\n",
      "bsmthalfbath    1460 non-null int64\n",
      "fullbath        1460 non-null int64\n",
      "halfbath        1460 non-null int64\n",
      "bedroomabvgr    1460 non-null int64\n",
      "kitchenabvgr    1460 non-null int64\n",
      "totrmsabvgrd    1460 non-null int64\n",
      "fireplaces      1460 non-null int64\n",
      "garagecars      1460 non-null int64\n",
      "mosold          1460 non-null int64\n",
      "dtypes: int64(13)\n",
      "memory usage: 148.4 KB\n"
     ]
    }
   ],
   "source": [
    "\n",
    "# Here I'm introducing an inflation adjusted sale price using the cpi module\n",
    "house_prices_df['inf_adj_saleprice'] = house_prices_df.apply(lambda x: cpi.inflate(x.saleprice,x.yrsold), axis=1)\n",
    "\n",
    "# Now I'm adding the CPI for both the years the house was built and sold\n",
    "house_prices_df['cpi_yr_built'] = house_prices_df['yearbuilt'].apply(lambda x: cpi.get(x) if x > 1912 else 0)\n",
    "house_prices_df['cpi_yr_sold'] = house_prices_df['yrsold'].apply(lambda x: cpi.get(x) if x > 1912 else 0)\n",
    "\n",
    "# I'll combine the basement, first floor, and second floor square-footage features into one\n",
    "# Then I'll multiply the total square-footage feathre by the overal qualitry rating to get a combined feature\n",
    "house_prices_df['totalsf'] = house_prices_df['totalbsmtsf'] + house_prices_df['firstflrsf'] + house_prices_df['secondflrsf']\n",
    "house_prices_df['int_over_sf'] = house_prices_df['totalsf'] * house_prices_df['overallqual']\n",
    "\n",
    "print(house_prices_df.head(10))\n",
    "\n",
    "# Here I'm splitting the db into numerical, numerical (that I consider categorical), and non-numerical categorical\n",
    "\n",
    "df_num = house_prices_df.select_dtypes(include=['int64', 'float64'])\n",
    "dropc = ['id', 'yrsold', 'overallqual', 'overallcond', 'bsmtfullbath', 'bsmthalfbath', 'fullbath', 'halfbath', 'bedroomabvgr', 'kitchenabvgr', 'totrmsabvgrd', 'fireplaces', 'garagecars', 'mosold']\n",
    "df3 = house_prices_df.loc[:, dropc]\n",
    "df_obj = house_prices_df.select_dtypes(include=['object'])\n",
    "\n",
    "# Here I'm dropping any int/float fields I consider to be categorical and not fit for a scatterplot. I'll us a bar plot for those\n",
    "df2 = df_num.drop(dropc, axis = 1)\n",
    "df3 = df3.drop('id', axis = 1)\n",
    "\n",
    "df_num.info()\n",
    "df3.info()\n",
    "# print(df3.head())"
   ]
  },
  {
   "cell_type": "code",
   "execution_count": 16,
   "metadata": {},
   "outputs": [
    {
     "data": {
      "text/html": [
       "<div>\n",
       "<style scoped>\n",
       "    .dataframe tbody tr th:only-of-type {\n",
       "        vertical-align: middle;\n",
       "    }\n",
       "\n",
       "    .dataframe tbody tr th {\n",
       "        vertical-align: top;\n",
       "    }\n",
       "\n",
       "    .dataframe thead th {\n",
       "        text-align: right;\n",
       "    }\n",
       "</style>\n",
       "<table border=\"1\" class=\"dataframe\">\n",
       "  <thead>\n",
       "    <tr style=\"text-align: right;\">\n",
       "      <th></th>\n",
       "      <th>int_over_sf</th>\n",
       "      <th>overallqual</th>\n",
       "      <th>totalsf</th>\n",
       "      <th>grlivarea</th>\n",
       "      <th>garagecars</th>\n",
       "    </tr>\n",
       "  </thead>\n",
       "  <tbody>\n",
       "    <tr>\n",
       "      <td>int_over_sf</td>\n",
       "      <td>1.000000</td>\n",
       "      <td>0.843040</td>\n",
       "      <td>0.938579</td>\n",
       "      <td>0.819653</td>\n",
       "      <td>0.587337</td>\n",
       "    </tr>\n",
       "    <tr>\n",
       "      <td>overallqual</td>\n",
       "      <td>0.843040</td>\n",
       "      <td>1.000000</td>\n",
       "      <td>0.668155</td>\n",
       "      <td>0.593007</td>\n",
       "      <td>0.600671</td>\n",
       "    </tr>\n",
       "    <tr>\n",
       "      <td>totalsf</td>\n",
       "      <td>0.938579</td>\n",
       "      <td>0.668155</td>\n",
       "      <td>1.000000</td>\n",
       "      <td>0.874373</td>\n",
       "      <td>0.536413</td>\n",
       "    </tr>\n",
       "    <tr>\n",
       "      <td>grlivarea</td>\n",
       "      <td>0.819653</td>\n",
       "      <td>0.593007</td>\n",
       "      <td>0.874373</td>\n",
       "      <td>1.000000</td>\n",
       "      <td>0.467247</td>\n",
       "    </tr>\n",
       "    <tr>\n",
       "      <td>garagecars</td>\n",
       "      <td>0.587337</td>\n",
       "      <td>0.600671</td>\n",
       "      <td>0.536413</td>\n",
       "      <td>0.467247</td>\n",
       "      <td>1.000000</td>\n",
       "    </tr>\n",
       "  </tbody>\n",
       "</table>\n",
       "</div>"
      ],
      "text/plain": [
       "             int_over_sf  overallqual   totalsf  grlivarea  garagecars\n",
       "int_over_sf     1.000000     0.843040  0.938579   0.819653    0.587337\n",
       "overallqual     0.843040     1.000000  0.668155   0.593007    0.600671\n",
       "totalsf         0.938579     0.668155  1.000000   0.874373    0.536413\n",
       "grlivarea       0.819653     0.593007  0.874373   1.000000    0.467247\n",
       "garagecars      0.587337     0.600671  0.536413   0.467247    1.000000"
      ]
     },
     "execution_count": 16,
     "metadata": {},
     "output_type": "execute_result"
    }
   ],
   "source": [
    "col = ['int_over_sf', 'overallqual', 'totalsf', 'grlivarea', 'garagecars']\n",
    "\n",
    "house_prices_df[col].corr()"
   ]
  },
  {
   "cell_type": "code",
   "execution_count": 20,
   "metadata": {},
   "outputs": [
    {
     "name": "stdout",
     "output_type": "stream",
     "text": [
      "<class 'pandas.core.series.Series'>\n",
      "<class 'pandas.core.series.Series'>\n",
      "<class 'pandas.core.series.Series'>\n",
      "<class 'pandas.core.series.Series'>\n",
      "<class 'pandas.core.series.Series'>\n"
     ]
    }
   ],
   "source": [
    "for c in col:\n",
    "    print(type(house_prices_df[c]))"
   ]
  },
  {
   "cell_type": "code",
   "execution_count": 8,
   "metadata": {},
   "outputs": [],
   "source": [
    "house_prices_df = pd.concat([house_prices_df,pd.get_dummies(house_prices_df.mszoning, prefix=\"mszoning\", drop_first=True)], axis=1)\n",
    "house_prices_df = pd.concat([house_prices_df,pd.get_dummies(house_prices_df.street, prefix=\"street\", drop_first=True)], axis=1)\n",
    "dummy_column_names = list(pd.get_dummies(house_prices_df.mszoning, prefix=\"mszoning\", drop_first=True).columns)\n",
    "dummy_column_names = dummy_column_names + list(pd.get_dummies(house_prices_df.street, prefix=\"street\", drop_first=True).columns)"
   ]
  },
  {
   "cell_type": "code",
   "execution_count": 9,
   "metadata": {},
   "outputs": [
    {
     "ename": "SyntaxError",
     "evalue": "invalid syntax (<ipython-input-9-8c9e2ba7091f>, line 4)",
     "output_type": "error",
     "traceback": [
      "\u001b[1;36m  File \u001b[1;32m\"<ipython-input-9-8c9e2ba7091f>\"\u001b[1;36m, line \u001b[1;32m4\u001b[0m\n\u001b[1;33m    dummy_column_names = list(pd.get_dummies(house_prices_df['garagecars', prefix=\"mszoning\", drop_first=True).columns)\u001b[0m\n\u001b[1;37m                                                                                 ^\u001b[0m\n\u001b[1;31mSyntaxError\u001b[0m\u001b[1;31m:\u001b[0m invalid syntax\n"
     ]
    }
   ],
   "source": [
    "house_prices_df = pd.concat([house_prices_df,pd.get_dummies(house_prices_df['mszoning'], prefix=\"mszoning\", drop_first=True)], axis=1)\n",
    "house_prices_df = pd.concat([house_prices_df,pd.get_dummies(house_prices_df.street, prefix=\"street\", drop_first=True)], axis=1)\n",
    "\n",
    "dummy_column_names = list(pd.get_dummies(house_prices_df['garagecars', prefix=\"mszoning\", drop_first=True).columns)\n",
    "dummy_column_names = dummy_column_names + list(pd.get_dummies(house_prices_df.street, prefix=\"street\", drop_first=True).columns)"
   ]
  },
  {
   "cell_type": "code",
   "execution_count": null,
   "metadata": {},
   "outputs": [],
   "source": [
    "lab_enc = preprocessing.LabelEncoder()\n",
    "\n",
    "for i in col:\n",
    "    house_prices_df[i] = lab_enc.fit_transform(house_prices_df[i])\n",
    "    \n",
    "house_prices_df['saleprice'] = lab_enc.fit_transform(house_prices_df['saleprice'])"
   ]
  },
  {
   "cell_type": "code",
   "execution_count": 17,
   "metadata": {},
   "outputs": [],
   "source": [
    "# Y: Target Varialbe\n",
    "Y = np.log1p(house_prices_df['saleprice'])\n",
    "# X: features\n",
    "X = house_prices_df[col]"
   ]
  },
  {
   "cell_type": "code",
   "execution_count": 18,
   "metadata": {},
   "outputs": [
    {
     "name": "stdout",
     "output_type": "stream",
     "text": [
      "int_over_sf\n",
      "multiclass\n",
      "\n",
      "overallqual\n",
      "multiclass\n",
      "\n",
      "totalsf\n",
      "multiclass\n",
      "\n",
      "grlivarea\n",
      "multiclass\n",
      "\n",
      "garagecars\n",
      "multiclass\n",
      "\n"
     ]
    }
   ],
   "source": [
    "for i in col:\n",
    "    print(i)\n",
    "    print(utils.multiclass.type_of_target(house_prices_df[i]))\n",
    "    print('')"
   ]
  },
  {
   "cell_type": "code",
   "execution_count": 12,
   "metadata": {},
   "outputs": [
    {
     "ename": "ValueError",
     "evalue": "Unknown label type: 'continuous'",
     "output_type": "error",
     "traceback": [
      "\u001b[1;31m---------------------------------------------------------------------------\u001b[0m",
      "\u001b[1;31mValueError\u001b[0m                                Traceback (most recent call last)",
      "\u001b[1;32m<ipython-input-12-353359ba1f7c>\u001b[0m in \u001b[0;36m<module>\u001b[1;34m\u001b[0m\n\u001b[0;32m      5\u001b[0m     \u001b[0mrandom_state\u001b[0m \u001b[1;33m=\u001b[0m \u001b[1;36m4047\u001b[0m\u001b[1;33m\u001b[0m\u001b[1;33m\u001b[0m\u001b[0m\n\u001b[0;32m      6\u001b[0m )\n\u001b[1;32m----> 7\u001b[1;33m \u001b[0mdecision_tree\u001b[0m\u001b[1;33m.\u001b[0m\u001b[0mfit\u001b[0m\u001b[1;33m(\u001b[0m\u001b[0mX\u001b[0m\u001b[1;33m,\u001b[0m \u001b[0mY\u001b[0m\u001b[1;33m)\u001b[0m\u001b[1;33m\u001b[0m\u001b[1;33m\u001b[0m\u001b[0m\n\u001b[0m\u001b[0;32m      8\u001b[0m \u001b[1;33m\u001b[0m\u001b[0m\n\u001b[0;32m      9\u001b[0m \u001b[1;31m# Render our tree.\u001b[0m\u001b[1;33m\u001b[0m\u001b[1;33m\u001b[0m\u001b[1;33m\u001b[0m\u001b[0m\n",
      "\u001b[1;32m~\\Anaconda3\\lib\\site-packages\\sklearn\\tree\\tree.py\u001b[0m in \u001b[0;36mfit\u001b[1;34m(self, X, y, sample_weight, check_input, X_idx_sorted)\u001b[0m\n\u001b[0;32m    814\u001b[0m             \u001b[0msample_weight\u001b[0m\u001b[1;33m=\u001b[0m\u001b[0msample_weight\u001b[0m\u001b[1;33m,\u001b[0m\u001b[1;33m\u001b[0m\u001b[1;33m\u001b[0m\u001b[0m\n\u001b[0;32m    815\u001b[0m             \u001b[0mcheck_input\u001b[0m\u001b[1;33m=\u001b[0m\u001b[0mcheck_input\u001b[0m\u001b[1;33m,\u001b[0m\u001b[1;33m\u001b[0m\u001b[1;33m\u001b[0m\u001b[0m\n\u001b[1;32m--> 816\u001b[1;33m             X_idx_sorted=X_idx_sorted)\n\u001b[0m\u001b[0;32m    817\u001b[0m         \u001b[1;32mreturn\u001b[0m \u001b[0mself\u001b[0m\u001b[1;33m\u001b[0m\u001b[1;33m\u001b[0m\u001b[0m\n\u001b[0;32m    818\u001b[0m \u001b[1;33m\u001b[0m\u001b[0m\n",
      "\u001b[1;32m~\\Anaconda3\\lib\\site-packages\\sklearn\\tree\\tree.py\u001b[0m in \u001b[0;36mfit\u001b[1;34m(self, X, y, sample_weight, check_input, X_idx_sorted)\u001b[0m\n\u001b[0;32m    152\u001b[0m \u001b[1;33m\u001b[0m\u001b[0m\n\u001b[0;32m    153\u001b[0m         \u001b[1;32mif\u001b[0m \u001b[0mis_classification\u001b[0m\u001b[1;33m:\u001b[0m\u001b[1;33m\u001b[0m\u001b[1;33m\u001b[0m\u001b[0m\n\u001b[1;32m--> 154\u001b[1;33m             \u001b[0mcheck_classification_targets\u001b[0m\u001b[1;33m(\u001b[0m\u001b[0my\u001b[0m\u001b[1;33m)\u001b[0m\u001b[1;33m\u001b[0m\u001b[1;33m\u001b[0m\u001b[0m\n\u001b[0m\u001b[0;32m    155\u001b[0m             \u001b[0my\u001b[0m \u001b[1;33m=\u001b[0m \u001b[0mnp\u001b[0m\u001b[1;33m.\u001b[0m\u001b[0mcopy\u001b[0m\u001b[1;33m(\u001b[0m\u001b[0my\u001b[0m\u001b[1;33m)\u001b[0m\u001b[1;33m\u001b[0m\u001b[1;33m\u001b[0m\u001b[0m\n\u001b[0;32m    156\u001b[0m \u001b[1;33m\u001b[0m\u001b[0m\n",
      "\u001b[1;32m~\\Anaconda3\\lib\\site-packages\\sklearn\\utils\\multiclass.py\u001b[0m in \u001b[0;36mcheck_classification_targets\u001b[1;34m(y)\u001b[0m\n\u001b[0;32m    167\u001b[0m     if y_type not in ['binary', 'multiclass', 'multiclass-multioutput',\n\u001b[0;32m    168\u001b[0m                       'multilabel-indicator', 'multilabel-sequences']:\n\u001b[1;32m--> 169\u001b[1;33m         \u001b[1;32mraise\u001b[0m \u001b[0mValueError\u001b[0m\u001b[1;33m(\u001b[0m\u001b[1;34m\"Unknown label type: %r\"\u001b[0m \u001b[1;33m%\u001b[0m \u001b[0my_type\u001b[0m\u001b[1;33m)\u001b[0m\u001b[1;33m\u001b[0m\u001b[1;33m\u001b[0m\u001b[0m\n\u001b[0m\u001b[0;32m    170\u001b[0m \u001b[1;33m\u001b[0m\u001b[0m\n\u001b[0;32m    171\u001b[0m \u001b[1;33m\u001b[0m\u001b[0m\n",
      "\u001b[1;31mValueError\u001b[0m: Unknown label type: 'continuous'"
     ]
    }
   ],
   "source": [
    "\n",
    "decision_tree = tree.DecisionTreeClassifier(\n",
    "    criterion='entropy',\n",
    "    max_features=1,\n",
    "    max_depth=4,\n",
    "    random_state = 4047\n",
    ")\n",
    "decision_tree.fit(X, Y)\n",
    "\n",
    "# Render our tree.\n",
    "dot_data = tree.export_graphviz(\n",
    "    decision_tree, out_file=None,\n",
    "    feature_names=customers.columns,\n",
    "    class_names=['Not Returning', 'Returning'],\n",
    "    filled=True\n",
    ")\n",
    "graph = pydotplus.graph_from_dot_data(dot_data)\n",
    "Image(graph.create_png())"
   ]
  },
  {
   "cell_type": "code",
   "execution_count": 22,
   "metadata": {},
   "outputs": [
    {
     "data": {
      "text/plain": [
       "array([0.7360737 , 0.83819637, 0.77548712, 0.74763281, 0.80784488,\n",
       "       0.81435116, 0.81002374, 0.78926464, 0.77446588, 0.77436476])"
      ]
     },
     "execution_count": 22,
     "metadata": {},
     "output_type": "execute_result"
    }
   ],
   "source": [
    "rfc = ensemble.RandomForestRegressor()\n",
    "\n",
    "\n",
    "cross_val_score(rfc, X, Y, cv=10)"
   ]
  },
  {
   "cell_type": "code",
   "execution_count": null,
   "metadata": {},
   "outputs": [],
   "source": []
  },
  {
   "cell_type": "code",
   "execution_count": null,
   "metadata": {},
   "outputs": [],
   "source": []
  }
 ],
 "metadata": {
  "kernelspec": {
   "display_name": "Python 3",
   "language": "python",
   "name": "python3"
  },
  "language_info": {
   "codemirror_mode": {
    "name": "ipython",
    "version": 3
   },
   "file_extension": ".py",
   "mimetype": "text/x-python",
   "name": "python",
   "nbconvert_exporter": "python",
   "pygments_lexer": "ipython3",
   "version": "3.7.3"
  }
 },
 "nbformat": 4,
 "nbformat_minor": 2
}
