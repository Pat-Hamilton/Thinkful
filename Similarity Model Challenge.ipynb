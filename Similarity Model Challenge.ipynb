{
 "cells": [
  {
   "cell_type": "code",
   "execution_count": 2,
   "metadata": {},
   "outputs": [],
   "source": [
    "import numpy as np\n",
    "import pandas as pd\n",
    "import matplotlib.pyplot as plt\n",
    "from sqlalchemy import create_engine\n",
    "import statsmodels.api as sm\n",
    "from sklearn import neighbors\n",
    "from sklearn.model_selection import train_test_split\n",
    "from scipy import stats\n",
    "\n",
    "import warnings\n",
    "warnings.filterwarnings('ignore')\n",
    "\n",
    "postgres_user = 'dsbc_student'\n",
    "postgres_pw = '7*.8G9QH21'\n",
    "postgres_host = '142.93.121.174'\n",
    "postgres_port = '5432'\n",
    "postgres_db = 'weatherinszeged'"
   ]
  },
  {
   "cell_type": "code",
   "execution_count": 3,
   "metadata": {},
   "outputs": [
    {
     "name": "stdout",
     "output_type": "stream",
     "text": [
      "                       date        summary preciptype  temperature  \\\n",
      "0 2006-03-31 22:00:00+00:00  Partly Cloudy       rain     9.472222   \n",
      "1 2006-03-31 23:00:00+00:00  Partly Cloudy       rain     9.355556   \n",
      "2 2006-04-01 00:00:00+00:00  Mostly Cloudy       rain     9.377778   \n",
      "3 2006-04-01 01:00:00+00:00  Partly Cloudy       rain     8.288889   \n",
      "4 2006-04-01 02:00:00+00:00  Mostly Cloudy       rain     8.755556   \n",
      "\n",
      "   apparenttemperature  humidity  windspeed  windbearing  visibility  \\\n",
      "0             7.388889      0.89    14.1197        251.0     15.8263   \n",
      "1             7.227778      0.86    14.2646        259.0     15.8263   \n",
      "2             9.377778      0.89     3.9284        204.0     14.9569   \n",
      "3             5.944444      0.83    14.1036        269.0     15.8263   \n",
      "4             6.977778      0.83    11.0446        259.0     15.8263   \n",
      "\n",
      "   loudcover  pressure                       dailysummary  temp_diff  \\\n",
      "0        0.0   1015.13  Partly cloudy throughout the day.  -2.083333   \n",
      "1        0.0   1015.63  Partly cloudy throughout the day.  -2.127778   \n",
      "2        0.0   1015.94  Partly cloudy throughout the day.   0.000000   \n",
      "3        0.0   1016.41  Partly cloudy throughout the day.  -2.344444   \n",
      "4        0.0   1016.51  Partly cloudy throughout the day.  -1.777778   \n",
      "\n",
      "   humidity_windspeed_interaction  \n",
      "0                       12.566533  \n",
      "1                       12.267556  \n",
      "2                        3.496276  \n",
      "3                       11.705988  \n",
      "4                        9.167018  \n"
     ]
    }
   ],
   "source": [
    "engine = create_engine('postgresql://{}:{}@{}:{}/{}'.format(\n",
    "    postgres_user, postgres_pw, postgres_host, postgres_port, postgres_db))\n",
    "weather_df = pd.read_sql_query('select * from weatherinszeged',con=engine)\n",
    "\n",
    "# Can close the connection since we're only doing one query\n",
    "engine.dispose()\n",
    "\n",
    "weather_df['temp_diff'] = weather_df['apparenttemperature'] - weather_df['temperature']\n",
    "weather_df['humidity_windspeed_interaction'] = weather_df.humidity * weather_df.windspeed\n",
    "# weather_df['humidity'] = stats.zscore(weather_df['humidity'])\n",
    "# print(weather_df['humidity'])\n",
    "print(weather_df.head())"
   ]
  },
  {
   "cell_type": "code",
   "execution_count": 64,
   "metadata": {},
   "outputs": [
    {
     "data": {
      "text/plain": [
       "temperature                       1.000000\n",
       "apparenttemperature               0.992629\n",
       "temp_diff                         0.635285\n",
       "humidity                          0.632255\n",
       "visibility                        0.392847\n",
       "humidity_windspeed_interaction    0.251421\n",
       "windbearing                       0.029988\n",
       "windspeed                         0.008957\n",
       "pressure                          0.005447\n",
       "loudcover                              NaN\n",
       "Name: temperature, dtype: float64"
      ]
     },
     "execution_count": 64,
     "metadata": {},
     "output_type": "execute_result"
    }
   ],
   "source": [
    "np.abs(weather_df.iloc[:,1:].corr().loc[:,'temperature']).sort_values(ascending=False)"
   ]
  },
  {
   "cell_type": "markdown",
   "metadata": {},
   "source": [
    "**Linear Regression Model**"
   ]
  },
  {
   "cell_type": "code",
   "execution_count": 68,
   "metadata": {},
   "outputs": [
    {
     "data": {
      "text/html": [
       "<table class=\"simpletable\">\n",
       "<caption>OLS Regression Results</caption>\n",
       "<tr>\n",
       "  <th>Dep. Variable:</th>        <td>temp_diff</td>    <th>  R-squared:         </th>  <td>   0.315</td>  \n",
       "</tr>\n",
       "<tr>\n",
       "  <th>Model:</th>                   <td>OLS</td>       <th>  Adj. R-squared:    </th>  <td>   0.315</td>  \n",
       "</tr>\n",
       "<tr>\n",
       "  <th>Method:</th>             <td>Least Squares</td>  <th>  F-statistic:       </th>  <td>4.426e+04</td> \n",
       "</tr>\n",
       "<tr>\n",
       "  <th>Date:</th>             <td>Thu, 19 Sep 2019</td> <th>  Prob (F-statistic):</th>   <td>  0.00</td>   \n",
       "</tr>\n",
       "<tr>\n",
       "  <th>Time:</th>                 <td>11:48:01</td>     <th>  Log-Likelihood:    </th> <td>-1.6861e+05</td>\n",
       "</tr>\n",
       "<tr>\n",
       "  <th>No. Observations:</th>      <td> 96453</td>      <th>  AIC:               </th>  <td>3.372e+05</td> \n",
       "</tr>\n",
       "<tr>\n",
       "  <th>Df Residuals:</th>          <td> 96451</td>      <th>  BIC:               </th>  <td>3.372e+05</td> \n",
       "</tr>\n",
       "<tr>\n",
       "  <th>Df Model:</th>              <td>     1</td>      <th>                     </th>      <td> </td>     \n",
       "</tr>\n",
       "<tr>\n",
       "  <th>Covariance Type:</th>      <td>nonrobust</td>    <th>                     </th>      <td> </td>     \n",
       "</tr>\n",
       "</table>\n",
       "<table class=\"simpletable\">\n",
       "<tr>\n",
       "                 <td></td>                   <th>coef</th>     <th>std err</th>      <th>t</th>      <th>P>|t|</th>  <th>[0.025</th>    <th>0.975]</th>  \n",
       "</tr>\n",
       "<tr>\n",
       "  <th>const</th>                          <td>    0.3511</td> <td>    0.008</td> <td>   43.171</td> <td> 0.000</td> <td>    0.335</td> <td>    0.367</td>\n",
       "</tr>\n",
       "<tr>\n",
       "  <th>humidity_windspeed_interaction</th> <td>   -0.1870</td> <td>    0.001</td> <td> -210.380</td> <td> 0.000</td> <td>   -0.189</td> <td>   -0.185</td>\n",
       "</tr>\n",
       "</table>\n",
       "<table class=\"simpletable\">\n",
       "<tr>\n",
       "  <th>Omnibus:</th>       <td>2785.669</td> <th>  Durbin-Watson:     </th> <td>   0.258</td>\n",
       "</tr>\n",
       "<tr>\n",
       "  <th>Prob(Omnibus):</th>  <td> 0.000</td>  <th>  Jarque-Bera (JB):  </th> <td>4041.543</td>\n",
       "</tr>\n",
       "<tr>\n",
       "  <th>Skew:</th>           <td>-0.307</td>  <th>  Prob(JB):          </th> <td>    0.00</td>\n",
       "</tr>\n",
       "<tr>\n",
       "  <th>Kurtosis:</th>       <td> 3.793</td>  <th>  Cond. No.          </th> <td>    16.8</td>\n",
       "</tr>\n",
       "</table><br/><br/>Warnings:<br/>[1] Standard Errors assume that the covariance matrix of the errors is correctly specified."
      ],
      "text/plain": [
       "<class 'statsmodels.iolib.summary.Summary'>\n",
       "\"\"\"\n",
       "                            OLS Regression Results                            \n",
       "==============================================================================\n",
       "Dep. Variable:              temp_diff   R-squared:                       0.315\n",
       "Model:                            OLS   Adj. R-squared:                  0.315\n",
       "Method:                 Least Squares   F-statistic:                 4.426e+04\n",
       "Date:                Thu, 19 Sep 2019   Prob (F-statistic):               0.00\n",
       "Time:                        11:48:01   Log-Likelihood:            -1.6861e+05\n",
       "No. Observations:               96453   AIC:                         3.372e+05\n",
       "Df Residuals:                   96451   BIC:                         3.372e+05\n",
       "Df Model:                           1                                         \n",
       "Covariance Type:            nonrobust                                         \n",
       "==================================================================================================\n",
       "                                     coef    std err          t      P>|t|      [0.025      0.975]\n",
       "--------------------------------------------------------------------------------------------------\n",
       "const                              0.3511      0.008     43.171      0.000       0.335       0.367\n",
       "humidity_windspeed_interaction    -0.1870      0.001   -210.380      0.000      -0.189      -0.185\n",
       "==============================================================================\n",
       "Omnibus:                     2785.669   Durbin-Watson:                   0.258\n",
       "Prob(Omnibus):                  0.000   Jarque-Bera (JB):             4041.543\n",
       "Skew:                          -0.307   Prob(JB):                         0.00\n",
       "Kurtosis:                       3.793   Cond. No.                         16.8\n",
       "==============================================================================\n",
       "\n",
       "Warnings:\n",
       "[1] Standard Errors assume that the covariance matrix of the errors is correctly specified.\n",
       "\"\"\""
      ]
     },
     "execution_count": 68,
     "metadata": {},
     "output_type": "execute_result"
    }
   ],
   "source": [
    "# Y is the target variable\n",
    "Y = weather_df['temp_diff']\n",
    "# X is the feature set\n",
    "X = weather_df[['humidity_windspeed_interaction']]\n",
    "\n",
    "X = sm.add_constant(X)\n",
    "\n",
    "results = sm.OLS(Y, X).fit()\n",
    "\n",
    "results.summary()"
   ]
  },
  {
   "cell_type": "markdown",
   "metadata": {},
   "source": [
    "**KNN Model**"
   ]
  },
  {
   "cell_type": "code",
   "execution_count": 69,
   "metadata": {},
   "outputs": [
    {
     "data": {
      "image/png": "[encoded data removed]",
      "text/plain": [
       "<Figure size 432x288 with 1 Axes>"
      ]
     },
     "metadata": {
      "needs_background": "light"
     },
     "output_type": "display_data"
    }
   ],
   "source": [
    "# Build our model.\n",
    "knn = neighbors.KNeighborsRegressor(n_neighbors=10)\n",
    "\n",
    "X = pd.DataFrame(weather_df['humidity_windspeed_interaction'])\n",
    "Y = weather_df['temp_diff']\n",
    "\n",
    "X_train, X_test, y_train, y_test = train_test_split(X, Y, test_size = 0.2, random_state = 465)\n",
    "\n",
    "knn.fit(X_train, y_train)\n",
    "\n",
    "# Set up our prediction line.\n",
    "\n",
    "# Trailing underscores are a common convention for a prediction.\n",
    "Y_ = knn.predict(pd.DataFrame(y_test))\n",
    "\n",
    "plt.scatter(X_train, y_train, c='k', label='data')\n",
    "plt.plot(y_test, Y_, c='g', label='prediction')\n",
    "plt.legend()\n",
    "plt.title('K=10')\n",
    "plt.show()"
   ]
  },
  {
   "cell_type": "code",
   "execution_count": 59,
   "metadata": {},
   "outputs": [
    {
     "name": "stdout",
     "output_type": "stream",
     "text": [
      "Unweighted Accuracy: 0.36 (+/- 0.04)\n"
     ]
    }
   ],
   "source": [
    "from sklearn.model_selection import cross_val_score\n",
    "score = cross_val_score(knn, X, Y, cv=5)\n",
    "print(\"Unweighted Accuracy: %0.2f (+/- %0.2f)\" % (score.mean(), score.std() * 2))"
   ]
  }
 ],
 "metadata": {
  "kernelspec": {
   "display_name": "Python 3",
   "language": "python",
   "name": "python3"
  },
  "language_info": {
   "codemirror_mode": {
    "name": "ipython",
    "version": 3
   },
   "file_extension": ".py",
   "mimetype": "text/x-python",
   "name": "python",
   "nbconvert_exporter": "python",
   "pygments_lexer": "ipython3",
   "version": "3.7.3"
  }
 },
 "nbformat": 4,
 "nbformat_minor": 2
}
